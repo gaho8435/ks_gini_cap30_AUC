{
 "cells": [
  {
   "cell_type": "code",
   "execution_count": 1,
   "metadata": {},
   "outputs": [],
   "source": [
    "import numpy as np\n",
    "import pandas as pd\n",
    "import warnings\n",
    "warnings.filterwarnings(\"ignore\")"
   ]
  },
  {
   "cell_type": "code",
   "execution_count": 2,
   "metadata": {},
   "outputs": [],
   "source": [
    "data = pd.read_csv('data\\speeddating.csv')"
   ]
  },
  {
   "cell_type": "code",
   "execution_count": 3,
   "metadata": {},
   "outputs": [],
   "source": [
    "delete_columns = []\n",
    "has_question_columns = []\n",
    "for i in data.columns:\n",
    "    if len(data[data[i]==\"?\"].index)>len(data)*0.05:\n",
    "        delete_columns.append(i)\n",
    "data = data.drop(delete_columns,axis=1)\n",
    "for i in data.columns:\n",
    "    if sum(data[i]==\"?\")!=0:\n",
    "        has_question_columns.append(i)\n",
    "for i in has_question_columns:\n",
    "    data = data.drop(data[data[i]==\"?\"].index,axis=0)"
   ]
  },
  {
   "cell_type": "code",
   "execution_count": 4,
   "metadata": {},
   "outputs": [],
   "source": [
    "data = data.drop(['has_null','wave'],axis=1)"
   ]
  },
  {
   "cell_type": "code",
   "execution_count": 5,
   "metadata": {},
   "outputs": [],
   "source": [
    "data = data.reset_index()\n",
    "data = data.drop(columns=[\"index\"])"
   ]
  },
  {
   "cell_type": "code",
   "execution_count": 6,
   "metadata": {},
   "outputs": [],
   "source": [
    "num_columns = ['age','age_o','d_age','importance_same_race','importance_same_religion',\n",
    "               'pref_o_attractive','pref_o_sincere','pref_o_intelligence','pref_o_funny','pref_o_ambitious',\n",
    "               'pref_o_shared_interests','attractive_o','sinsere_o','intelligence_o','funny_o',\n",
    "               'attractive_important','sincere_important','intellicence_important','funny_important','ambtition_important',\n",
    "               'shared_interests_important','attractive','sincere','intelligence','funny',\n",
    "               'ambition','attractive_partner','sincere_partner','intelligence_partner','funny_partner',\n",
    "               'sports','tvsports','exercise','dining','museums',\n",
    "               'art','hiking','gaming','clubbing','reading',\n",
    "               'tv','theater','movies','concerts','music',\n",
    "               'shopping','yoga','interests_correlate','expected_happy_with_sd_people','like',\n",
    "               'guess_prob_liked','met']\n",
    "\n",
    "class_columns = ['gender','d_d_age','race','race_o','samerace',\n",
    "                 'd_importance_same_race','d_importance_same_religion','d_pref_o_attractive','d_pref_o_sincere','d_pref_o_intelligence',\n",
    "                 'd_pref_o_funny','d_pref_o_ambitious','d_pref_o_shared_interests','d_attractive_o','d_sinsere_o',\n",
    "                 'd_intelligence_o','d_funny_o','d_ambitous_o','d_shared_interests_o','d_attractive_important',\n",
    "                 'd_sincere_important','d_intellicence_important','d_funny_important','d_ambtition_important','d_shared_interests_important',\n",
    "                 'd_attractive','d_sincere','d_intelligence','d_funny','d_ambition',\n",
    "                 'd_attractive_partner','d_sincere_partner','d_intelligence_partner','d_funny_partner','d_ambition_partner',\n",
    "                 'd_shared_interests_partner','d_sports','d_tvsports','d_exercise','d_dining',\n",
    "                 'd_museums','d_art','d_hiking','d_gaming','d_clubbing',\n",
    "                 'd_reading','d_tv','d_theater','d_movies','d_concerts',\n",
    "                 'd_music','d_shopping','d_yoga','d_interests_correlate','d_expected_happy_with_sd_people',\n",
    "                 'd_expected_happy_with_sd_people','d_expected_num_interested_in_me','d_expected_num_matches','d_like','d_guess_prob_liked']\n",
    "delete = ['field','decision','decision_o']"
   ]
  },
  {
   "cell_type": "code",
   "execution_count": 7,
   "metadata": {},
   "outputs": [],
   "source": [
    "for i in num_columns:\n",
    "    data[i] = data[i].astype(float)"
   ]
  },
  {
   "cell_type": "code",
   "execution_count": 8,
   "metadata": {},
   "outputs": [],
   "source": [
    "data['samerace'] = data['samerace'].astype(str)"
   ]
  },
  {
   "cell_type": "code",
   "execution_count": 9,
   "metadata": {},
   "outputs": [],
   "source": [
    "for i in class_columns:\n",
    "    data[i].str.replace('[\\[\\]]','')"
   ]
  },
  {
   "cell_type": "code",
   "execution_count": 10,
   "metadata": {},
   "outputs": [],
   "source": [
    "data = data.drop(columns=delete)"
   ]
  },
  {
   "cell_type": "code",
   "execution_count": 11,
   "metadata": {},
   "outputs": [],
   "source": [
    "data_1 = pd.get_dummies(data)"
   ]
  },
  {
   "cell_type": "code",
   "execution_count": 12,
   "metadata": {},
   "outputs": [],
   "source": [
    "data_y = data_1.match.copy()\n",
    "data_x = data_1.drop(columns=[\"match\"])"
   ]
  },
  {
   "cell_type": "code",
   "execution_count": 13,
   "metadata": {},
   "outputs": [],
   "source": [
    "data_y = pd.DataFrame(list(data_y), columns=['y'])"
   ]
  },
  {
   "cell_type": "code",
   "execution_count": 14,
   "metadata": {},
   "outputs": [],
   "source": [
    "data_x.to_csv('data\\data_x.csv',index = False)\n",
    "data_y.to_csv('data\\data_y.csv',index = False)"
   ]
  }
 ],
 "metadata": {
  "kernelspec": {
   "display_name": "Python 3",
   "language": "python",
   "name": "python3"
  },
  "language_info": {
   "codemirror_mode": {
    "name": "ipython",
    "version": 3
   },
   "file_extension": ".py",
   "mimetype": "text/x-python",
   "name": "python",
   "nbconvert_exporter": "python",
   "pygments_lexer": "ipython3",
   "version": "3.7.4"
  }
 },
 "nbformat": 4,
 "nbformat_minor": 2
}
